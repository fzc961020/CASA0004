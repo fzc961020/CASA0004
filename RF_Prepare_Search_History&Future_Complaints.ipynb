{
 "cells": [
  {
   "cell_type": "code",
   "execution_count": null,
   "id": "b4f5cf28-0816-4dc2-b176-61c808174343",
   "metadata": {},
   "outputs": [],
   "source": [
    "! pip install rfpimp -q"
   ]
  },
  {
   "cell_type": "code",
   "execution_count": null,
   "id": "5526051a-335f-4f0c-9ea8-3364f5b5757a",
   "metadata": {},
   "outputs": [],
   "source": [
    "pip install imblearn"
   ]
  },
  {
   "cell_type": "code",
   "execution_count": null,
   "id": "53b1460b-e520-4f09-a984-fd1dd8e886b8",
   "metadata": {},
   "outputs": [],
   "source": [
    "pip install minisom"
   ]
  },
  {
   "cell_type": "code",
   "execution_count": null,
   "id": "05994429-810b-41d8-87e2-aed9d9cf55ba",
   "metadata": {},
   "outputs": [],
   "source": [
    "# https://github.com/JustGlowing/minisom"
   ]
  },
  {
   "cell_type": "code",
   "execution_count": null,
   "id": "498d36fe-9313-45bc-90e7-38994372dbb4",
   "metadata": {},
   "outputs": [],
   "source": [
    "pip install tslearn"
   ]
  },
  {
   "cell_type": "code",
   "execution_count": null,
   "id": "7fe2b0b2-feab-43dd-b704-884988ad3535",
   "metadata": {},
   "outputs": [],
   "source": [
    "# https://tslearn.readthedocs.io/en/stable/index.html"
   ]
  },
  {
   "cell_type": "code",
   "execution_count": null,
   "id": "a2984393-7323-4385-ab0b-e3241fa87540",
   "metadata": {},
   "outputs": [],
   "source": [
    "pip install h5py"
   ]
  },
  {
   "cell_type": "code",
   "execution_count": null,
   "id": "86113ecb-bb6b-4f99-bb71-e6e0b7da0327",
   "metadata": {},
   "outputs": [],
   "source": [
    "! pip install tslearn\n",
    "! pip uninstall scikit-learn --yes \n",
    "! pip install scikit-learn==0.24.1"
   ]
  },
  {
   "cell_type": "code",
   "execution_count": null,
   "id": "9d0fe95a-f52e-4363-b33f-6b31b91703fa",
   "metadata": {},
   "outputs": [],
   "source": [
    "# Native libraries\n",
    "import os\n",
    "import math\n",
    "import warnings\n",
    "\n",
    "# Essential Libraries\n",
    "import pandas as pd\n",
    "import geopandas as gpd\n",
    "import matplotlib.pyplot as plt\n",
    "import numpy as np\n",
    "import seaborn as sns\n",
    "import matplotlib.ticker as ticker\n",
    "# Preprocessing\n",
    "from sklearn.preprocessing import MinMaxScaler\n",
    "\n",
    "# Algorithms\n",
    "from minisom import MiniSom\n",
    "from tslearn.barycenters import dtw_barycenter_averaging\n",
    "from tslearn.clustering import TimeSeriesKMeans\n",
    "from sklearn.cluster import KMeans\n",
    "from sklearn.preprocessing import StandardScaler\n",
    "from sklearn.metrics import silhouette_score\n",
    "from sklearn.manifold import TSNE, MDS\n",
    "from sklearn.cluster import AgglomerativeClustering\n",
    "from sklearn.decomposition import PCA\n",
    "from scipy.cluster.hierarchy import dendrogram\n",
    "from tqdm.autonotebook import tqdm\n",
    "from sklearn import metrics\n",
    "from sklearn.linear_model import LinearRegression\n",
    "from sklearn.linear_model import LogisticRegression\n",
    "from sklearn.metrics import confusion_matrix\n",
    "\n",
    "import statsmodels.api as sm\n",
    "\n",
    "\n",
    "warnings.filterwarnings(\"ignore\")\n",
    "sns.set_style(\"darkgrid\")\n",
    "\n",
    "SEED=23\n"
   ]
  },
  {
   "cell_type": "code",
   "execution_count": null,
   "id": "d2a9548e-b32e-407c-b815-f30bbda3c0cd",
   "metadata": {},
   "outputs": [],
   "source": [
    "noise_test = pd.read_csv('1_cleaned_data.csv')"
   ]
  },
  {
   "cell_type": "code",
   "execution_count": null,
   "id": "27565e38-1192-43f0-b8df-8e4ff8a8b5ad",
   "metadata": {},
   "outputs": [],
   "source": [
    "# All the columns\n",
    "noise_test.columns"
   ]
  },
  {
   "cell_type": "code",
   "execution_count": null,
   "id": "74e9d41f-ea42-4438-9e9e-1dd63fd53236",
   "metadata": {},
   "outputs": [],
   "source": [
    "# There are a series of complaints not belonging to Westminster\n",
    "# Select only the records in Westminster and in the sub group of 'Noise Complaint'\n",
    "lsoanot = ['Brent 032E', 'Brent 034B', 'Camden 017C', 'Camden 017D',\n",
    "       'Camden 018D', 'Camden 020A', 'Camden 020B', 'Camden 020D',\n",
    "       'Camden 026A', 'Camden 026B', 'Camden 026D', 'Camden 028A',\n",
    "       'Camden 028B', 'Camden 028C', 'Camden 028D',\n",
    "       'Hammersmith and Fulham 020E', 'Hammersmith and Fulham 024A',\n",
    "       'Kensington and Chelsea 001A', 'Kensington and Chelsea 001C',\n",
    "       'Kensington and Chelsea 001E', 'Kensington and Chelsea 004A',\n",
    "       'Kensington and Chelsea 004B', 'Kensington and Chelsea 004D',\n",
    "       'Kensington and Chelsea 006D', 'Kensington and Chelsea 006E',\n",
    "       'Kensington and Chelsea 010E', 'Kensington and Chelsea 012A',\n",
    "       'Kensington and Chelsea 012B', 'Kensington and Chelsea 012C',\n",
    "       'Kensington and Chelsea 012E', 'Kensington and Chelsea 018C',\n",
    "       'Kensington and Chelsea 018D', 'Southwark 024A']\n",
    "\n",
    "noise_test_true = noise_test.loc[(noise_test.Service_Request_Group_Type == 'Noise Complaint')&(noise_test.LSOA_2011_Name  != '0')& (~noise_test.LSOA_2011_Name.isin(lsoanot) )]\n",
    "noise_test_true"
   ]
  },
  {
   "cell_type": "code",
   "execution_count": null,
   "id": "7e19cc4a-fead-49af-9938-611c48fc23a2",
   "metadata": {
    "tags": []
   },
   "outputs": [],
   "source": [
    "# simple is the best\n",
    "noise_test_true.Service_Request_Group_Sub_Type.unique()"
   ]
  },
  {
   "cell_type": "code",
   "execution_count": null,
   "id": "be1718a4-c8d7-4b8e-8379-0e3caec5e903",
   "metadata": {},
   "outputs": [],
   "source": [
    "# \"broken\" (staggered) dates\n",
    "dates = pd.Index([pd.Timestamp('2012-05-01'), \n",
    "                  pd.Timestamp('2012-05-04'), \n",
    "                  pd.Timestamp('2012-05-06')])\n",
    "s = pd.Series([1, 2, 3], dates)\n",
    "\n",
    "print(s.asfreq('D'))\n"
   ]
  },
  {
   "cell_type": "code",
   "execution_count": null,
   "id": "403fba2c-6ebf-4f17-a776-77239ee9c9cc",
   "metadata": {},
   "outputs": [],
   "source": [
    "s1 = s.asfreq('D')\n",
    "s1 "
   ]
  },
  {
   "cell_type": "code",
   "execution_count": null,
   "id": "b574f814-a7ee-4a11-b660-3795a898ae66",
   "metadata": {},
   "outputs": [],
   "source": [
    "s = noise_test_true.copy()\n",
    "s = s.reset_index()\n",
    "s"
   ]
  },
  {
   "cell_type": "code",
   "execution_count": null,
   "id": "eb4bbcce-db09-4d97-b4de-5924ec098e90",
   "metadata": {},
   "outputs": [],
   "source": [
    "# \n",
    "#s['2days_count'] = 0\n",
    "#for i in range(len(s.Received_Date)):\n",
    "#for i in range(100):\n",
    "    #df = s.loc[ \n",
    "        #(\n",
    "        #((s.days == s.days[i])  &  (s.Time > s.Time[i])) |\n",
    "        #(s.days.isin(range(s.days[i]+1,s.days[i]+2))) \n",
    "        #) \n",
    "        #&\n",
    "        #(  \n",
    "        #s.Address_Key_ == s.Address_Key_[i] \n",
    "        #)\n",
    "    #]\n",
    "    #a = len(df.Noise_Complaint_Index)\n",
    "    #s['2days_count'][i] = a"
   ]
  },
  {
   "cell_type": "code",
   "execution_count": null,
   "id": "cc44fb46-5fba-44c7-8716-badeeee76644",
   "metadata": {},
   "outputs": [],
   "source": [
    "#s['7days_count'] = 0\n",
    "#for i in range(len(s.Received_Date)):\n",
    "#for i in range(100):\n",
    "    #df = s.loc[ \n",
    "        #(\n",
    "        #((s.days == s.days[i])  &  (s.Time > s.Time[i])) |\n",
    "        #(s.days.isin(range(s.days[i]+1,s.days[i]+7))) \n",
    "        #) \n",
    "        #&\n",
    "        #(  \n",
    "        #s.Address_Key_ == s.Address_Key_[i] \n",
    "        #)\n",
    "    #]\n",
    "    #a = len(df.Noise_Complaint_Index)\n",
    "    #s['7days_count'][i] = a\n"
   ]
  },
  {
   "cell_type": "code",
   "execution_count": null,
   "id": "db65ea1b-c04f-4366-a589-9ae7b7b841f9",
   "metadata": {},
   "outputs": [],
   "source": [
    "#s['30days_count'] = 0\n",
    "#for i in range(len(s.Received_Date)):\n",
    "##for i in range(100):\n",
    "    #df = s.loc[ \n",
    "        #(\n",
    "        #((s.days == s.days[i])  &  (s.Time > s.Time[i])) |\n",
    "        #(s.days.isin(range(s.days[i]+1,s.days[i]+30))) \n",
    "        #) \n",
    "        #&\n",
    "        #(  \n",
    "        #s.Address_Key_ == s.Address_Key_[i] \n",
    "        #)\n",
    "    #]\n",
    "    #a = len(df.Noise_Complaint_Index)\n",
    "    #s['30days_count'][i] = a"
   ]
  },
  {
   "cell_type": "code",
   "execution_count": null,
   "id": "e16c7ce8-9ee4-4bb3-8cb1-ca5b5d821f85",
   "metadata": {},
   "outputs": [],
   "source": [
    "s"
   ]
  },
  {
   "cell_type": "code",
   "execution_count": null,
   "id": "d1cd0fd0-3d68-42d3-8cff-411bc082a802",
   "metadata": {},
   "outputs": [],
   "source": [
    "#s['bef_todays_count'] = 0\n",
    "#for i in range(len(s.Received_Date)):\n",
    "#for i in range(100):\n",
    "    #df = s.loc[ \n",
    "        #(\n",
    "        #((s.days == s.days[i])  &  (s.Time < s.Time[i])) \n",
    "        #) \n",
    "        #&\n",
    "        #(  \n",
    "        #s.Address_Key_ == s.Address_Key_[i] \n",
    "        #)\n",
    "    #]\n",
    "    #a = len(df.Noise_Complaint_Index)\n",
    "    #s['bef_todays_count'][i] = a"
   ]
  },
  {
   "cell_type": "code",
   "execution_count": null,
   "id": "2ef52ca6-49fe-4ec0-a1fa-bdde10c52225",
   "metadata": {},
   "outputs": [],
   "source": [
    "#s['bef_yesterday_count'] = 0\n",
    "#for i in range(len(s.Received_Date)):\n",
    "#for i in range(100):\n",
    "    #df = s.loc[ \n",
    "        #(\n",
    "        \n",
    "        #(s.days.isin(range(s.days[i]-1,s.days[i])))\n",
    "        #) \n",
    "        #&\n",
    "        #(  \n",
    "        #s.Address_Key_ == s.Address_Key_[i] \n",
    "        #)\n",
    "    #]\n",
    "    #a = len(df.Noise_Complaint_Index)\n",
    "    #s['bef_yesterday_count'][i] = a"
   ]
  },
  {
   "cell_type": "code",
   "execution_count": null,
   "id": "90ff8c59-6796-4c5f-8956-052d368be914",
   "metadata": {},
   "outputs": [],
   "source": [
    "#s['bef_2_7days_count'] = 0\n",
    "#for i in range(len(s.Received_Date)):\n",
    "#for i in range(100):\n",
    "    #df = s.loc[ \n",
    "        #(\n",
    "        \n",
    "        #(s.days.isin(range(s.days[i]-7,s.days[i]-1)))\n",
    "        #) \n",
    "        #&\n",
    "        #(  \n",
    "        #s.Address_Key_ == s.Address_Key_[i] \n",
    "        #)\n",
    "    #]\n",
    "    #a = len(df.Noise_Complaint_Index)\n",
    "    #s['bef_2_7days_count'][i] = a"
   ]
  },
  {
   "cell_type": "code",
   "execution_count": null,
   "id": "212f4145-382a-48c8-975c-a6ccbbc71c04",
   "metadata": {},
   "outputs": [],
   "source": [
    "#s['bef_7_30days_count'] = 0\n",
    "#for i in range(len(s.Received_Date)):\n",
    "#for i in range(100):\n",
    "    #df = s.loc[ \n",
    "        #(\n",
    "        \n",
    "        #(s.days.isin(range(s.days[i]-30,s.days[i]-7)))\n",
    "        #) \n",
    "        #&\n",
    "        #(  \n",
    "        #s.Address_Key_ == s.Address_Key_[i] \n",
    "        #)\n",
    "    #]\n",
    "    #a = len(df.Noise_Complaint_Index)\n",
    "    #s['bef_7_30days_count'][i] = a"
   ]
  },
  {
   "cell_type": "code",
   "execution_count": null,
   "id": "679c11c3-0e57-4531-a38b-9dc884667c92",
   "metadata": {},
   "outputs": [],
   "source": [
    "#s['bef_30_365days_count'] = 0\n",
    "#for i in range(len(s.Received_Date)):\n",
    "#for i in range(100):\n",
    "    #df = s.loc[ \n",
    "        #(\n",
    "        #(s.days.isin(range(s.days[i]-365,s.days[i]-30)))\n",
    "        #) \n",
    "       # &\n",
    "        #(  \n",
    "        #s.Address_Key_ == s.Address_Key_[i] \n",
    "        #)\n",
    "    #]\n",
    "    #a = len(df.Noise_Complaint_Index)\n",
    "    #s['bef_30_365days_count'][i] = a"
   ]
  },
  {
   "cell_type": "code",
   "execution_count": null,
   "id": "4596cf9d-d5d8-420b-b7c7-8a7fa2d6a88d",
   "metadata": {},
   "outputs": [],
   "source": [
    "#s['bef_365_begindays_count'] = 0\n",
    "#for i in range(len(s.Received_Date)):\n",
    "#for i in range(100):\n",
    "   # df = s.loc[ \n",
    "        #(\n",
    "        #(s.days.isin(range(0,s.days[i]-365)))\n",
    "        #) \n",
    "        #&\n",
    "        #(  \n",
    "        #s.Address_Key_ == s.Address_Key_[i] \n",
    "        #)\n",
    "    #]\n",
    "    #a = len(df.Noise_Complaint_Index)\n",
    "    #s['bef_365_begindays_count'][i] = a"
   ]
  },
  {
   "cell_type": "code",
   "execution_count": null,
   "id": "de62d423-8a5a-40da-8f3d-6478de416356",
   "metadata": {},
   "outputs": [],
   "source": []
  },
  {
   "cell_type": "code",
   "execution_count": null,
   "id": "bdf6e536-1e15-48ee-a24c-a9676574fedc",
   "metadata": {},
   "outputs": [],
   "source": [
    "# \n",
    "s['2days_count'] = 0\n",
    "for i in range(len(s.Received_Date)):\n",
    "#for i in range(100):\n",
    "    df = s.loc[ \n",
    "        (\n",
    "        ((s.days == s.days[i])  &  (s.Time > s.Time[i])) |\n",
    "        (s.days.isin(range(s.days[i]+1,s.days[i]+2))) \n",
    "        ) \n",
    "        &\n",
    "        (  \n",
    "        s.Address_Key_ == s.Address_Key_[i] \n",
    "        )\n",
    "    ]\n",
    "    a = len(df.Noise_Complaint_Index)\n",
    "    s['2days_count'][i] = a"
   ]
  },
  {
   "cell_type": "code",
   "execution_count": null,
   "id": "271abdda-a987-4958-adaa-8bdd954a4611",
   "metadata": {},
   "outputs": [],
   "source": [
    "s['7days_count'] = 0\n",
    "for i in range(len(s.Received_Date)):\n",
    "#for i in range(100):\n",
    "    df = s.loc[ \n",
    "        (\n",
    "        ((s.days == s.days[i])  &  (s.Time > s.Time[i])) |\n",
    "        (s.days.isin(range(s.days[i]+1,s.days[i]+7))) \n",
    "        ) \n",
    "        &\n",
    "        (  \n",
    "        s.Address_Key_ == s.Address_Key_[i] \n",
    "        )\n",
    "    ]\n",
    "    a = len(df.Noise_Complaint_Index)\n",
    "    s['7days_count'][i] = a\n"
   ]
  },
  {
   "cell_type": "code",
   "execution_count": null,
   "id": "99c49876-ebff-41c1-9757-184c47a24efa",
   "metadata": {},
   "outputs": [],
   "source": [
    "s['30days_count'] = 0\n",
    "for i in range(len(s.Received_Date)):\n",
    "##for i in range(100):\n",
    "    df = s.loc[ \n",
    "        (\n",
    "        ((s.days == s.days[i])  &  (s.Time > s.Time[i])) |\n",
    "        (s.days.isin(range(s.days[i]+1,s.days[i]+30))) \n",
    "        ) \n",
    "        &\n",
    "        (  \n",
    "        s.Address_Key_ == s.Address_Key_[i] \n",
    "        )\n",
    "    ]\n",
    "    a = len(df.Noise_Complaint_Index)\n",
    "    s['30days_count'][i] = a"
   ]
  },
  {
   "cell_type": "code",
   "execution_count": null,
   "id": "2b2e5c65-47b4-4a4b-bc10-c3e664cfb900",
   "metadata": {},
   "outputs": [],
   "source": [
    "s"
   ]
  },
  {
   "cell_type": "code",
   "execution_count": null,
   "id": "79067e59-8207-4d2b-9467-045b00e9969f",
   "metadata": {},
   "outputs": [],
   "source": [
    "s['bef_todays_count'] = 0\n",
    "for i in range(len(s.Received_Date)):\n",
    "#for i in range(100):\n",
    "    df = s.loc[ \n",
    "        (\n",
    "        ((s.days == s.days[i])  &  (s.Time < s.Time[i])) \n",
    "        ) \n",
    "        &\n",
    "        (  \n",
    "        s.Address_Key_ == s.Address_Key_[i] \n",
    "        )\n",
    "    ]\n",
    "    a = len(df.Noise_Complaint_Index)\n",
    "    s['bef_todays_count'][i] = a"
   ]
  },
  {
   "cell_type": "code",
   "execution_count": null,
   "id": "431c7c54-e27b-4147-8877-22d23f7147d4",
   "metadata": {},
   "outputs": [],
   "source": [
    "s['bef_yesterday_count'] = 0\n",
    "for i in range(len(s.Received_Date)):\n",
    "#for i in range(100):\n",
    "    df = s.loc[ \n",
    "        (\n",
    "        \n",
    "        (s.days.isin(range(s.days[i]-1,s.days[i])))\n",
    "        ) \n",
    "        &\n",
    "        (  \n",
    "        s.Address_Key_ == s.Address_Key_[i] \n",
    "        )\n",
    "    ]\n",
    "    a = len(df.Noise_Complaint_Index)\n",
    "    s['bef_yesterday_count'][i] = a"
   ]
  },
  {
   "cell_type": "code",
   "execution_count": null,
   "id": "6b79d9e0-20a7-43bd-9dce-3ebc48d5cdd2",
   "metadata": {},
   "outputs": [],
   "source": [
    "s['bef_2_7days_count'] = 0\n",
    "for i in range(len(s.Received_Date)):\n",
    "#for i in range(100):\n",
    "    df = s.loc[ \n",
    "        (\n",
    "        \n",
    "        (s.days.isin(range(s.days[i]-7,s.days[i]-1)))\n",
    "        ) \n",
    "        &\n",
    "        (  \n",
    "        s.Address_Key_ == s.Address_Key_[i] \n",
    "        )\n",
    "    ]\n",
    "    a = len(df.Noise_Complaint_Index)\n",
    "    s['bef_2_7days_count'][i] = a"
   ]
  },
  {
   "cell_type": "code",
   "execution_count": null,
   "id": "9ed55b8f-992a-4ca9-8933-c41edd1deb7e",
   "metadata": {},
   "outputs": [],
   "source": [
    "s['bef_7_30days_count'] = 0\n",
    "for i in range(len(s.Received_Date)):\n",
    "#for i in range(100):\n",
    "    df = s.loc[ \n",
    "        (\n",
    "        \n",
    "        (s.days.isin(range(s.days[i]-30,s.days[i]-7)))\n",
    "        ) \n",
    "        &\n",
    "        (  \n",
    "        s.Address_Key_ == s.Address_Key_[i] \n",
    "        )\n",
    "    ]\n",
    "    a = len(df.Noise_Complaint_Index)\n",
    "    s['bef_7_30days_count'][i] = a"
   ]
  },
  {
   "cell_type": "code",
   "execution_count": null,
   "id": "cd9d59ff-34ed-4e1c-ac7b-7868d542d905",
   "metadata": {},
   "outputs": [],
   "source": [
    "s['bef_30_365days_count'] = 0\n",
    "for i in range(len(s.Received_Date)):\n",
    "#for i in range(100):\n",
    "    df = s.loc[ \n",
    "        (\n",
    "        (s.days.isin(range(s.days[i]-365,s.days[i]-30)))\n",
    "        ) \n",
    "        &\n",
    "        (  \n",
    "        s.Address_Key_ == s.Address_Key_[i] \n",
    "        )\n",
    "    ]\n",
    "    a = len(df.Noise_Complaint_Index)\n",
    "    s['bef_30_365days_count'][i] = a"
   ]
  },
  {
   "cell_type": "code",
   "execution_count": null,
   "id": "7b548dfe-3f71-4016-8a44-387a240c77e9",
   "metadata": {},
   "outputs": [],
   "source": [
    "s['bef_365_begindays_count'] = 0\n",
    "for i in range(len(s.Received_Date)):\n",
    "#for i in range(100):\n",
    "    df = s.loc[ \n",
    "        (\n",
    "        (s.days.isin(range(0,s.days[i]-365)))\n",
    "        ) \n",
    "        &\n",
    "        (  \n",
    "        s.Address_Key_ == s.Address_Key_[i] \n",
    "        )\n",
    "    ]\n",
    "    a = len(df.Noise_Complaint_Index)\n",
    "    s['bef_365_begindays_count'][i] = a"
   ]
  },
  {
   "cell_type": "code",
   "execution_count": null,
   "id": "fbdbdf9a-05cc-4730-9555-49edd7212901",
   "metadata": {},
   "outputs": [],
   "source": []
  },
  {
   "cell_type": "code",
   "execution_count": null,
   "id": "b94cceaf-74e1-4ae8-87ce-257f1940a27f",
   "metadata": {},
   "outputs": [],
   "source": [
    "#s.to_csv('3_future_count.csv')"
   ]
  },
  {
   "cell_type": "code",
   "execution_count": null,
   "id": "fd1bbac9-d202-4d0c-b1c7-9865f8686471",
   "metadata": {},
   "outputs": [],
   "source": [
    "s = pd.read_csv('3_future_count.csv')\n",
    "s"
   ]
  },
  {
   "cell_type": "code",
   "execution_count": null,
   "id": "72fc0a74-1a53-477a-a3e2-2b6554a53d37",
   "metadata": {},
   "outputs": [],
   "source": [
    "s['is_repeat_2days'] = 0\n",
    "s['is_repeat_7days'] = 0\n",
    "s['is_repeat_30days'] = 0\n",
    "\n",
    "s.loc[s['2days_count']>0, ['is_repeat_2days']] = 1\n",
    "s.loc[s['7days_count']>0, ['is_repeat_7days']] = 1\n",
    "s.loc[s['30days_count']>0, ['is_repeat_30days']] = 1"
   ]
  },
  {
   "cell_type": "code",
   "execution_count": null,
   "id": "55d883b7-3399-403c-92b4-4e759a0ccb7d",
   "metadata": {},
   "outputs": [],
   "source": []
  },
  {
   "cell_type": "code",
   "execution_count": null,
   "id": "5940cfa3-99e5-4ef2-a290-c77e14521f98",
   "metadata": {},
   "outputs": [],
   "source": [
    "#s['is_repeat_2days'] = 0\n",
    "\n",
    "s['is_repeat_2_7days'] = 0\n",
    "s['is_repeat_7_30days'] = 0\n",
    "\n",
    "s.loc[(s['2days_count']==0)&(s['7days_count']>0), ['is_repeat_2_7days']] = 1\n",
    "s.loc[(s['7days_count']==0)&(s['30days_count']>0), ['is_repeat_7_30days']] = 1\n",
    "\n"
   ]
  },
  {
   "cell_type": "code",
   "execution_count": null,
   "id": "db3af670-2f1f-4ca0-ba9f-a5ee88573527",
   "metadata": {},
   "outputs": [],
   "source": []
  },
  {
   "cell_type": "code",
   "execution_count": null,
   "id": "98a56854-c121-47f2-8dfa-c8ab09292d67",
   "metadata": {},
   "outputs": [],
   "source": [
    "s"
   ]
  },
  {
   "cell_type": "code",
   "execution_count": null,
   "id": "f42abee6-4ca9-4b7f-8adf-7bd02f8451cc",
   "metadata": {
    "tags": []
   },
   "outputs": [],
   "source": [
    "\n",
    "# The first 5% is 0 to 1315, count from 1620 to 9\n",
    "#count_lsoa = noise_test_true.groupby(['LSOA_2011_Code']).count().sort_values(by=['Type_of_Address'],ascending=False).reset_index()\n",
    "#lsoa_count= count_lsoa ['LSOA_2011_Code'][0:int(128*0.05)].unique()\n",
    "#lsoa_count"
   ]
  },
  {
   "cell_type": "code",
   "execution_count": null,
   "id": "3bb855cc-c62d-409a-a858-c63444c85e02",
   "metadata": {},
   "outputs": [],
   "source": [
    "#count_lsoa = count_lsoa.rename(columns = {'Noise_Complaint_Index':'LSOA_Count'})\n",
    "#count_lsoa"
   ]
  },
  {
   "cell_type": "code",
   "execution_count": null,
   "id": "6d563e6e-b09f-4470-b240-4cd653b5569a",
   "metadata": {},
   "outputs": [],
   "source": [
    "#s['top5_lsoa_count'] = 0\n",
    "#s.loc[s.LSOA_2011_Code.isin(lsoa_count),['top5_lsoa_count']] = 1\n",
    "#s = s.merge(count_lsoa[['LSOA_2011_Code','LSOA_Count']], on ='LSOA_2011_Code' )"
   ]
  },
  {
   "cell_type": "code",
   "execution_count": null,
   "id": "319aefb5-d27d-4088-b53d-923790036aee",
   "metadata": {},
   "outputs": [],
   "source": [
    "s"
   ]
  },
  {
   "cell_type": "code",
   "execution_count": null,
   "id": "06dd9818-9d97-48c2-b7d5-bd9ced33d250",
   "metadata": {},
   "outputs": [],
   "source": [
    "# The total count of address is 26303\n",
    "# The first 5% is 0 to 1315, count from 1620 to 9\n",
    "count_address = noise_test_true.groupby(['Address_Key_']).count().sort_values(by=['Type_of_Address'],ascending=False).reset_index()\n",
    "#lsoa_count = count_address.loc[count_address.Noise_Complaint_Index>=50]['Address_Key_'].unique()\n",
    "add_count= count_address['Address_Key_'][0:int(26303*0.05)].unique()\n",
    "add_count\n"
   ]
  },
  {
   "cell_type": "code",
   "execution_count": null,
   "id": "3da469d0-9257-40d1-802e-0966e261259f",
   "metadata": {},
   "outputs": [],
   "source": [
    "count_address = count_address.rename(columns = {'Noise_Complaint_Index':'Adress_Count'})\n",
    "count_address"
   ]
  },
  {
   "cell_type": "code",
   "execution_count": null,
   "id": "7f9ad073-3fa2-4d73-93a7-7e1c12bd2aaa",
   "metadata": {},
   "outputs": [],
   "source": [
    "s['top5_address_count'] = 0\n",
    "s.loc[s.Address_Key_.isin(add_count),['top5_address_count']] = 1\n",
    "s = s.merge(count_address[['Address_Key_','Adress_Count']], on ='Address_Key_' )"
   ]
  },
  {
   "cell_type": "code",
   "execution_count": null,
   "id": "80e3f885-16d2-40ec-889c-b121eb11ce47",
   "metadata": {},
   "outputs": [],
   "source": [
    "#  cluster"
   ]
  },
  {
   "cell_type": "code",
   "execution_count": null,
   "id": "b471cc39-04f5-4bdc-bc0c-66291a228706",
   "metadata": {},
   "outputs": [],
   "source": [
    "lsoa_cluster_explained = pd.read_csv('2_explained_cluster.csv').drop(['Unnamed: 0'],axis =1)\n",
    "cluster_dummies = pd.get_dummies(lsoa_cluster_explained['cluster'])\n",
    "lsoa_cluster_explained = lsoa_cluster_explained.merge(cluster_dummies, left_index = True,right_index = True)\n",
    "lsoa_cluster_explained = lsoa_cluster_explained.rename(columns = {0:'cluster0',1:'cluster1',2:'cluster2'})\n",
    "lsoa_cluster_explained"
   ]
  },
  {
   "cell_type": "code",
   "execution_count": null,
   "id": "9ce5c711-7523-4c27-9486-1e3f6ec9445d",
   "metadata": {},
   "outputs": [],
   "source": [
    "s_1 = s.merge(lsoa_cluster_explained[['LSOA11CD','cluster0','cluster1','cluster2']],left_on ='LSOA_2011_Code' ,right_on = 'LSOA11CD' )\n",
    "#s_1 = s.merge(lsoa_cluster_explained,left_on ='LSOA_2011_Code' ,right_on = 'LSOA11CD' )"
   ]
  },
  {
   "cell_type": "code",
   "execution_count": null,
   "id": "2d8658ab-9f36-4e02-aa87-dde04107558d",
   "metadata": {},
   "outputs": [],
   "source": [
    "s_1.columns"
   ]
  },
  {
   "cell_type": "code",
   "execution_count": null,
   "id": "2abdd496-c407-464c-9d27-d1c7c8725907",
   "metadata": {},
   "outputs": [],
   "source": [
    "s"
   ]
  },
  {
   "cell_type": "code",
   "execution_count": null,
   "id": "741c250a-eb43-407f-91d0-0eec80f57d1b",
   "metadata": {},
   "outputs": [],
   "source": []
  },
  {
   "cell_type": "code",
   "execution_count": null,
   "id": "0b9c8913-90d8-4760-ba93-5e15a6f3a9e9",
   "metadata": {},
   "outputs": [],
   "source": [
    "#high frequency hours\n",
    "\n",
    "s_1['is_high_hour'] = 0\n",
    "s_1.loc[s_1.Time.isin([20,21,22,23,0,1]), ['is_high_hour']] = 1"
   ]
  },
  {
   "cell_type": "code",
   "execution_count": null,
   "id": "317f2956-c353-4251-9615-568216ac248e",
   "metadata": {},
   "outputs": [],
   "source": [
    "#high frequency weekdays\n",
    "s_1['is_high_weekday'] = 0\n",
    "s_1.loc[s_1.Weekday.isin([5,6]), ['is_high_weekday']] = 1"
   ]
  },
  {
   "cell_type": "code",
   "execution_count": null,
   "id": "f3717dbd-3647-4b91-94b3-c92a83029463",
   "metadata": {},
   "outputs": [],
   "source": [
    "#high frequency month\n",
    "s_1['is_high_month'] = 0\n",
    "s_1.loc[s_1.Month.isin([6,7,8]), ['is_high_month']] = 1"
   ]
  },
  {
   "cell_type": "code",
   "execution_count": null,
   "id": "d7430207-b701-4920-b168-cec2e4f97bbb",
   "metadata": {},
   "outputs": [],
   "source": [
    "#lockdown\n",
    "\n",
    "s_1['is_lock_down'] = 0\n",
    "s_1.loc[s_1.Year_Month.isin(['2020-03','2020-04','2020-05','2020-06','2020-07','2020-08','2020-09','2020-10','2020-11','2020-12',\n",
    "                            '2021-01','2021-02','2021-03','2021-04','2021-05','2021-06','2021-07']), ['is_lock_down']] = 1"
   ]
  },
  {
   "cell_type": "code",
   "execution_count": null,
   "id": "fa8edfee-d050-4c4c-90e5-730c3d10a3b6",
   "metadata": {},
   "outputs": [],
   "source": [
    "s_1"
   ]
  },
  {
   "cell_type": "code",
   "execution_count": null,
   "id": "7a5b2e0b-2758-4821-a320-70b37e2cb16c",
   "metadata": {},
   "outputs": [],
   "source": [
    "#该投诉从属于哪一类\n",
    "type_dummies = pd.get_dummies(s_1['Service_Request_Group_Sub_Type'])\n",
    "s_2 = s_1.merge(type_dummies, left_index = True,right_index = True)\n",
    "s_2"
   ]
  },
  {
   "cell_type": "code",
   "execution_count": null,
   "id": "56747df1-d9be-4c78-9644-72a411938196",
   "metadata": {},
   "outputs": [],
   "source": [
    "s_2.columns"
   ]
  },
  {
   "cell_type": "code",
   "execution_count": null,
   "id": "8dbe664f-4e33-4020-86c8-136500892e39",
   "metadata": {},
   "outputs": [],
   "source": [
    "s_2"
   ]
  },
  {
   "cell_type": "code",
   "execution_count": null,
   "id": "9b910d89-6b2f-4041-85fd-1fcbf957c778",
   "metadata": {},
   "outputs": [],
   "source": [
    "#s_2.to_csv('3_future_count_complete.csv')"
   ]
  },
  {
   "cell_type": "code",
   "execution_count": null,
   "id": "b23b14d5-1ee8-415a-9e51-b245b4303bf8",
   "metadata": {},
   "outputs": [],
   "source": [
    "s_2 = pd.read_csv('3_future_count_complete.csv')"
   ]
  },
  {
   "cell_type": "code",
   "execution_count": null,
   "id": "7096777c-da7e-476a-accf-d489a8a516a7",
   "metadata": {},
   "outputs": [],
   "source": [
    "s_2.columns"
   ]
  }
 ],
 "metadata": {
  "kernelspec": {
   "display_name": "Python 3 (ipykernel)",
   "language": "python",
   "name": "python3"
  },
  "language_info": {
   "codemirror_mode": {
    "name": "ipython",
    "version": 3
   },
   "file_extension": ".py",
   "mimetype": "text/x-python",
   "name": "python",
   "nbconvert_exporter": "python",
   "pygments_lexer": "ipython3",
   "version": "3.9.6"
  }
 },
 "nbformat": 4,
 "nbformat_minor": 5
}
